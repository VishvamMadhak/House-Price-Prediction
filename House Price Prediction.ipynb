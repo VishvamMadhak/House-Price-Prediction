{
 "cells": [
  {
   "cell_type": "code",
   "execution_count": 43,
   "id": "c26468da",
   "metadata": {},
   "outputs": [],
   "source": [
    "import numpy as np\n",
    "import pandas as pd\n",
    "import matplotlib.pyplot as plt\n",
    "import seaborn as sns"
   ]
  },
  {
   "cell_type": "code",
   "execution_count": 45,
   "id": "4e3d9337",
   "metadata": {},
   "outputs": [],
   "source": [
    "train=pd.read_csv('./datasets/house-prices/train.csv')"
   ]
  },
  {
   "cell_type": "code",
   "execution_count": 46,
   "id": "60f9a14f",
   "metadata": {},
   "outputs": [],
   "source": [
    "test=pd.read_csv('./datasets/house-prices/test.csv')"
   ]
  },
  {
   "cell_type": "code",
   "execution_count": null,
   "id": "32356b2d",
   "metadata": {},
   "outputs": [],
   "source": [
    "train"
   ]
  },
  {
   "cell_type": "code",
   "execution_count": null,
   "id": "0b652080",
   "metadata": {},
   "outputs": [],
   "source": [
    "train.isna().sum()[train.isna().sum()>0]"
   ]
  },
  {
   "attachments": {},
   "cell_type": "markdown",
   "id": "96abe7f3",
   "metadata": {},
   "source": [
    "Dropping Id and other columns that have too many missing values"
   ]
  },
  {
   "cell_type": "code",
   "execution_count": 49,
   "id": "673ff774",
   "metadata": {},
   "outputs": [],
   "source": [
    "train=train.drop(columns = ['Id', 'PoolQC', 'MiscFeature', 'Alley', 'Fence', 'FireplaceQu'])\n",
    "test=test.drop(columns = ['Id', 'PoolQC', 'MiscFeature', 'Alley', 'Fence', 'FireplaceQu'])"
   ]
  },
  {
   "cell_type": "code",
   "execution_count": null,
   "id": "d4416758",
   "metadata": {},
   "outputs": [],
   "source": [
    "train"
   ]
  },
  {
   "cell_type": "code",
   "execution_count": null,
   "id": "215b6d90",
   "metadata": {},
   "outputs": [],
   "source": [
    "test"
   ]
  },
  {
   "cell_type": "code",
   "execution_count": null,
   "id": "70e719ca",
   "metadata": {},
   "outputs": [],
   "source": [
    "numerical_columns=train.describe().columns\n",
    "train[train.describe().columns]"
   ]
  },
  {
   "attachments": {},
   "cell_type": "markdown",
   "id": "79ae8309",
   "metadata": {},
   "source": [
    "Filling in Nan values of numerical columns"
   ]
  },
  {
   "cell_type": "code",
   "execution_count": 53,
   "id": "25e07bde",
   "metadata": {},
   "outputs": [],
   "source": [
    "for i in numerical_columns:\n",
    "    train[i]=train[i].replace(np.nan,train[i].mean())\n",
    "for i in numerical_columns[:-1]:\n",
    "    test[i]=test[i].replace(np.nan,test[i].mean())"
   ]
  },
  {
   "cell_type": "code",
   "execution_count": null,
   "id": "dd736ba9",
   "metadata": {},
   "outputs": [],
   "source": [
    "train[train.describe().columns].isnull().any()"
   ]
  },
  {
   "cell_type": "code",
   "execution_count": null,
   "id": "a4de44ce",
   "metadata": {},
   "outputs": [],
   "source": [
    "test[test.describe().columns].isnull().any()"
   ]
  },
  {
   "attachments": {},
   "cell_type": "markdown",
   "id": "3e49c2d8",
   "metadata": {},
   "source": [
    "## Filling in Nan values of categorical columns"
   ]
  },
  {
   "cell_type": "code",
   "execution_count": 56,
   "id": "4cb5be00",
   "metadata": {},
   "outputs": [],
   "source": [
    "categorical_columns=[i for i in train.columns if train[i].dtype=='object']"
   ]
  },
  {
   "cell_type": "code",
   "execution_count": 57,
   "id": "3fd5144a",
   "metadata": {},
   "outputs": [],
   "source": [
    "for i in categorical_columns:\n",
    "    train[i]=train[i].fillna(train[i].mode()[0])\n",
    "    test[i]=test[i].fillna(test[i].mode()[0])"
   ]
  },
  {
   "cell_type": "code",
   "execution_count": null,
   "id": "0387f31c",
   "metadata": {},
   "outputs": [],
   "source": [
    "train[categorical_columns].isna().sum()"
   ]
  },
  {
   "cell_type": "code",
   "execution_count": null,
   "id": "ccd33311",
   "metadata": {},
   "outputs": [],
   "source": [
    "test[categorical_columns].isna().sum()"
   ]
  },
  {
   "attachments": {},
   "cell_type": "markdown",
   "id": "8164a183",
   "metadata": {},
   "source": [
    "## Label Encoding"
   ]
  },
  {
   "cell_type": "code",
   "execution_count": 60,
   "id": "642da78c",
   "metadata": {},
   "outputs": [],
   "source": [
    "from sklearn.preprocessing import LabelEncoder\n",
    "en=LabelEncoder()"
   ]
  },
  {
   "cell_type": "code",
   "execution_count": 61,
   "id": "fb1786f4",
   "metadata": {},
   "outputs": [],
   "source": [
    "for i in categorical_columns:\n",
    "    train[i]=en.fit_transform(train[i])\n",
    "    test[i]=en.fit_transform(test[i])"
   ]
  },
  {
   "cell_type": "code",
   "execution_count": null,
   "id": "2dbd4c07",
   "metadata": {},
   "outputs": [],
   "source": [
    "train[categorical_columns]"
   ]
  },
  {
   "attachments": {},
   "cell_type": "markdown",
   "id": "18c3909c",
   "metadata": {},
   "source": [
    "## Feature Selection"
   ]
  },
  {
   "cell_type": "code",
   "execution_count": 63,
   "id": "9dafc463",
   "metadata": {},
   "outputs": [],
   "source": [
    "from feature_engine.selection import DropConstantFeatures,DropDuplicateFeatures,SmartCorrelatedSelection\n",
    "from sklearn.pipeline import Pipeline"
   ]
  },
  {
   "cell_type": "code",
   "execution_count": 64,
   "id": "726d02f4",
   "metadata": {},
   "outputs": [],
   "source": [
    "from sklearn.ensemble import RandomForestRegressor\n",
    "RR=RandomForestRegressor(random_state=0)"
   ]
  },
  {
   "cell_type": "code",
   "execution_count": 65,
   "id": "486e1756",
   "metadata": {},
   "outputs": [],
   "source": [
    "pipe=Pipeline([('constant',DropConstantFeatures(tol=0.95)),('duplicate',DropDuplicateFeatures()),('smartcorrelation',SmartCorrelatedSelection(threshold=0.95,estimator=RandomForestRegressor))])"
   ]
  },
  {
   "cell_type": "code",
   "execution_count": 66,
   "id": "01223e7d",
   "metadata": {},
   "outputs": [],
   "source": [
    "x=train.drop('SalePrice',axis=1)\n",
    "y=train['SalePrice']"
   ]
  },
  {
   "cell_type": "code",
   "execution_count": 67,
   "id": "f11be032",
   "metadata": {},
   "outputs": [],
   "source": [
    "trainnew=pipe.fit_transform(x)\n",
    "testnew=pipe.fit_transform(test)"
   ]
  },
  {
   "attachments": {},
   "cell_type": "markdown",
   "id": "190f0d06",
   "metadata": {},
   "source": [
    "## Data Normalization"
   ]
  },
  {
   "cell_type": "code",
   "execution_count": 68,
   "id": "4afbf76b",
   "metadata": {},
   "outputs": [],
   "source": [
    "x=(x-x.mean())/x.std()"
   ]
  },
  {
   "cell_type": "code",
   "execution_count": 69,
   "id": "72f28475",
   "metadata": {},
   "outputs": [
    {
     "data": {
      "text/html": [
       "<style>#sk-container-id-1 {color: black;background-color: white;}#sk-container-id-1 pre{padding: 0;}#sk-container-id-1 div.sk-toggleable {background-color: white;}#sk-container-id-1 label.sk-toggleable__label {cursor: pointer;display: block;width: 100%;margin-bottom: 0;padding: 0.3em;box-sizing: border-box;text-align: center;}#sk-container-id-1 label.sk-toggleable__label-arrow:before {content: \"▸\";float: left;margin-right: 0.25em;color: #696969;}#sk-container-id-1 label.sk-toggleable__label-arrow:hover:before {color: black;}#sk-container-id-1 div.sk-estimator:hover label.sk-toggleable__label-arrow:before {color: black;}#sk-container-id-1 div.sk-toggleable__content {max-height: 0;max-width: 0;overflow: hidden;text-align: left;background-color: #f0f8ff;}#sk-container-id-1 div.sk-toggleable__content pre {margin: 0.2em;color: black;border-radius: 0.25em;background-color: #f0f8ff;}#sk-container-id-1 input.sk-toggleable__control:checked~div.sk-toggleable__content {max-height: 200px;max-width: 100%;overflow: auto;}#sk-container-id-1 input.sk-toggleable__control:checked~label.sk-toggleable__label-arrow:before {content: \"▾\";}#sk-container-id-1 div.sk-estimator input.sk-toggleable__control:checked~label.sk-toggleable__label {background-color: #d4ebff;}#sk-container-id-1 div.sk-label input.sk-toggleable__control:checked~label.sk-toggleable__label {background-color: #d4ebff;}#sk-container-id-1 input.sk-hidden--visually {border: 0;clip: rect(1px 1px 1px 1px);clip: rect(1px, 1px, 1px, 1px);height: 1px;margin: -1px;overflow: hidden;padding: 0;position: absolute;width: 1px;}#sk-container-id-1 div.sk-estimator {font-family: monospace;background-color: #f0f8ff;border: 1px dotted black;border-radius: 0.25em;box-sizing: border-box;margin-bottom: 0.5em;}#sk-container-id-1 div.sk-estimator:hover {background-color: #d4ebff;}#sk-container-id-1 div.sk-parallel-item::after {content: \"\";width: 100%;border-bottom: 1px solid gray;flex-grow: 1;}#sk-container-id-1 div.sk-label:hover label.sk-toggleable__label {background-color: #d4ebff;}#sk-container-id-1 div.sk-serial::before {content: \"\";position: absolute;border-left: 1px solid gray;box-sizing: border-box;top: 0;bottom: 0;left: 50%;z-index: 0;}#sk-container-id-1 div.sk-serial {display: flex;flex-direction: column;align-items: center;background-color: white;padding-right: 0.2em;padding-left: 0.2em;position: relative;}#sk-container-id-1 div.sk-item {position: relative;z-index: 1;}#sk-container-id-1 div.sk-parallel {display: flex;align-items: stretch;justify-content: center;background-color: white;position: relative;}#sk-container-id-1 div.sk-item::before, #sk-container-id-1 div.sk-parallel-item::before {content: \"\";position: absolute;border-left: 1px solid gray;box-sizing: border-box;top: 0;bottom: 0;left: 50%;z-index: -1;}#sk-container-id-1 div.sk-parallel-item {display: flex;flex-direction: column;z-index: 1;position: relative;background-color: white;}#sk-container-id-1 div.sk-parallel-item:first-child::after {align-self: flex-end;width: 50%;}#sk-container-id-1 div.sk-parallel-item:last-child::after {align-self: flex-start;width: 50%;}#sk-container-id-1 div.sk-parallel-item:only-child::after {width: 0;}#sk-container-id-1 div.sk-dashed-wrapped {border: 1px dashed gray;margin: 0 0.4em 0.5em 0.4em;box-sizing: border-box;padding-bottom: 0.4em;background-color: white;}#sk-container-id-1 div.sk-label label {font-family: monospace;font-weight: bold;display: inline-block;line-height: 1.2em;}#sk-container-id-1 div.sk-label-container {text-align: center;}#sk-container-id-1 div.sk-container {/* jupyter's `normalize.less` sets `[hidden] { display: none; }` but bootstrap.min.css set `[hidden] { display: none !important; }` so we also need the `!important` here to be able to override the default hidden behavior on the sphinx rendered scikit-learn.org. See: https://github.com/scikit-learn/scikit-learn/issues/21755 */display: inline-block !important;position: relative;}#sk-container-id-1 div.sk-text-repr-fallback {display: none;}</style><div id=\"sk-container-id-1\" class=\"sk-top-container\"><div class=\"sk-text-repr-fallback\"><pre>RandomForestRegressor(random_state=0)</pre><b>In a Jupyter environment, please rerun this cell to show the HTML representation or trust the notebook. <br />On GitHub, the HTML representation is unable to render, please try loading this page with nbviewer.org.</b></div><div class=\"sk-container\" hidden><div class=\"sk-item\"><div class=\"sk-estimator sk-toggleable\"><input class=\"sk-toggleable__control sk-hidden--visually\" id=\"sk-estimator-id-1\" type=\"checkbox\" checked><label for=\"sk-estimator-id-1\" class=\"sk-toggleable__label sk-toggleable__label-arrow\">RandomForestRegressor</label><div class=\"sk-toggleable__content\"><pre>RandomForestRegressor(random_state=0)</pre></div></div></div></div></div>"
      ],
      "text/plain": [
       "RandomForestRegressor(random_state=0)"
      ]
     },
     "execution_count": 69,
     "metadata": {},
     "output_type": "execute_result"
    }
   ],
   "source": [
    "RR.fit(x,y)"
   ]
  },
  {
   "cell_type": "code",
   "execution_count": 70,
   "id": "56ad0264",
   "metadata": {},
   "outputs": [],
   "source": [
    "pred_test=RR.predict(test)\n",
    "pred_train=RR.predict(x)"
   ]
  },
  {
   "cell_type": "code",
   "execution_count": 71,
   "id": "c08cfc53",
   "metadata": {},
   "outputs": [],
   "source": [
    "from sklearn.metrics import mean_absolute_error,r2_score,mean_squared_error"
   ]
  },
  {
   "cell_type": "code",
   "execution_count": 72,
   "id": "32ffc872",
   "metadata": {},
   "outputs": [
    {
     "data": {
      "text/plain": [
       "0.9812454021001051"
      ]
     },
     "execution_count": 72,
     "metadata": {},
     "output_type": "execute_result"
    }
   ],
   "source": [
    "r2_score(y,pred_train)"
   ]
  },
  {
   "cell_type": "code",
   "execution_count": 73,
   "id": "cfa06d15",
   "metadata": {},
   "outputs": [
    {
     "data": {
      "text/plain": [
       "6454.981924657533"
      ]
     },
     "execution_count": 73,
     "metadata": {},
     "output_type": "execute_result"
    }
   ],
   "source": [
    "mean_absolute_error(y,pred_train)"
   ]
  },
  {
   "cell_type": "code",
   "execution_count": 74,
   "id": "dddaea6d",
   "metadata": {},
   "outputs": [
    {
     "data": {
      "text/plain": [
       "10875.719928256385"
      ]
     },
     "execution_count": 74,
     "metadata": {},
     "output_type": "execute_result"
    }
   ],
   "source": [
    "np.sqrt(mean_squared_error(y,pred_train))"
   ]
  },
  {
   "cell_type": "code",
   "execution_count": null,
   "id": "eef5ae23",
   "metadata": {},
   "outputs": [],
   "source": [
    "print(pd.DataFrame(y.values,pred_train))"
   ]
  },
  {
   "cell_type": "code",
   "execution_count": null,
   "id": "703943c0",
   "metadata": {},
   "outputs": [],
   "source": [
    "print(pd.DataFrame(pred_test))"
   ]
  }
 ],
 "metadata": {
  "kernelspec": {
   "display_name": "Python 3 (ipykernel)",
   "language": "python",
   "name": "python3"
  },
  "language_info": {
   "codemirror_mode": {
    "name": "ipython",
    "version": 3
   },
   "file_extension": ".py",
   "mimetype": "text/x-python",
   "name": "python",
   "nbconvert_exporter": "python",
   "pygments_lexer": "ipython3",
   "version": "3.9.12"
  },
  "vscode": {
   "interpreter": {
    "hash": "a5e2940609b4beeecea3a57c36702139d4feb5f2786223d248b35e487576e04a"
   }
  }
 },
 "nbformat": 4,
 "nbformat_minor": 2
}
